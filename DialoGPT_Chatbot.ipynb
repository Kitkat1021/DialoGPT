{
  "nbformat": 4,
  "nbformat_minor": 0,
  "metadata": {
    "colab": {
      "name": "DialoGPT Chatbot.ipynb",
      "provenance": [],
      "collapsed_sections": [],
      "include_colab_link": true
    },
    "kernelspec": {
      "name": "python3",
      "display_name": "Python 3"
    },
    "accelerator": "GPU",
    "widgets": {
      "application/vnd.jupyter.widget-state+json": {
        "49b7142fae6a408e9efed02332fab4b9": {
          "model_module": "@jupyter-widgets/controls",
          "model_name": "HBoxModel",
          "state": {
            "_view_name": "HBoxView",
            "_dom_classes": [],
            "_model_name": "HBoxModel",
            "_view_module": "@jupyter-widgets/controls",
            "_model_module_version": "1.5.0",
            "_view_count": null,
            "_view_module_version": "1.5.0",
            "box_style": "",
            "layout": "IPY_MODEL_82730154addb43d7b1f5636e70613379",
            "_model_module": "@jupyter-widgets/controls",
            "children": [
              "IPY_MODEL_a61168755d364ed3aa466bd32e90c627",
              "IPY_MODEL_49baeefce77148b89f4d1f4b94860b71"
            ]
          }
        },
        "82730154addb43d7b1f5636e70613379": {
          "model_module": "@jupyter-widgets/base",
          "model_name": "LayoutModel",
          "state": {
            "_view_name": "LayoutView",
            "grid_template_rows": null,
            "right": null,
            "justify_content": null,
            "_view_module": "@jupyter-widgets/base",
            "overflow": null,
            "_model_module_version": "1.2.0",
            "_view_count": null,
            "flex_flow": null,
            "width": null,
            "min_width": null,
            "border": null,
            "align_items": null,
            "bottom": null,
            "_model_module": "@jupyter-widgets/base",
            "top": null,
            "grid_column": null,
            "overflow_y": null,
            "overflow_x": null,
            "grid_auto_flow": null,
            "grid_area": null,
            "grid_template_columns": null,
            "flex": null,
            "_model_name": "LayoutModel",
            "justify_items": null,
            "grid_row": null,
            "max_height": null,
            "align_content": null,
            "visibility": null,
            "align_self": null,
            "height": null,
            "min_height": null,
            "padding": null,
            "grid_auto_rows": null,
            "grid_gap": null,
            "max_width": null,
            "order": null,
            "_view_module_version": "1.2.0",
            "grid_template_areas": null,
            "object_position": null,
            "object_fit": null,
            "grid_auto_columns": null,
            "margin": null,
            "display": null,
            "left": null
          }
        },
        "a61168755d364ed3aa466bd32e90c627": {
          "model_module": "@jupyter-widgets/controls",
          "model_name": "FloatProgressModel",
          "state": {
            "_view_name": "ProgressView",
            "style": "IPY_MODEL_356b9a9043e94f4e85762a389dbc69a7",
            "_dom_classes": [],
            "description": "Downloading: 100%",
            "_model_name": "FloatProgressModel",
            "bar_style": "success",
            "max": 26,
            "_view_module": "@jupyter-widgets/controls",
            "_model_module_version": "1.5.0",
            "value": 26,
            "_view_count": null,
            "_view_module_version": "1.5.0",
            "orientation": "horizontal",
            "min": 0,
            "description_tooltip": null,
            "_model_module": "@jupyter-widgets/controls",
            "layout": "IPY_MODEL_a58e84e356f64f01980b64a519a67aa5"
          }
        },
        "49baeefce77148b89f4d1f4b94860b71": {
          "model_module": "@jupyter-widgets/controls",
          "model_name": "HTMLModel",
          "state": {
            "_view_name": "HTMLView",
            "style": "IPY_MODEL_c74779304ba340cab1d6f43344d1e7d3",
            "_dom_classes": [],
            "description": "",
            "_model_name": "HTMLModel",
            "placeholder": "​",
            "_view_module": "@jupyter-widgets/controls",
            "_model_module_version": "1.5.0",
            "value": " 26.0/26.0 [00:00&lt;00:00, 445B/s]",
            "_view_count": null,
            "_view_module_version": "1.5.0",
            "description_tooltip": null,
            "_model_module": "@jupyter-widgets/controls",
            "layout": "IPY_MODEL_d042540cb1d74a7cb35e7f0c39849495"
          }
        },
        "356b9a9043e94f4e85762a389dbc69a7": {
          "model_module": "@jupyter-widgets/controls",
          "model_name": "ProgressStyleModel",
          "state": {
            "_view_name": "StyleView",
            "_model_name": "ProgressStyleModel",
            "description_width": "initial",
            "_view_module": "@jupyter-widgets/base",
            "_model_module_version": "1.5.0",
            "_view_count": null,
            "_view_module_version": "1.2.0",
            "bar_color": null,
            "_model_module": "@jupyter-widgets/controls"
          }
        },
        "a58e84e356f64f01980b64a519a67aa5": {
          "model_module": "@jupyter-widgets/base",
          "model_name": "LayoutModel",
          "state": {
            "_view_name": "LayoutView",
            "grid_template_rows": null,
            "right": null,
            "justify_content": null,
            "_view_module": "@jupyter-widgets/base",
            "overflow": null,
            "_model_module_version": "1.2.0",
            "_view_count": null,
            "flex_flow": null,
            "width": null,
            "min_width": null,
            "border": null,
            "align_items": null,
            "bottom": null,
            "_model_module": "@jupyter-widgets/base",
            "top": null,
            "grid_column": null,
            "overflow_y": null,
            "overflow_x": null,
            "grid_auto_flow": null,
            "grid_area": null,
            "grid_template_columns": null,
            "flex": null,
            "_model_name": "LayoutModel",
            "justify_items": null,
            "grid_row": null,
            "max_height": null,
            "align_content": null,
            "visibility": null,
            "align_self": null,
            "height": null,
            "min_height": null,
            "padding": null,
            "grid_auto_rows": null,
            "grid_gap": null,
            "max_width": null,
            "order": null,
            "_view_module_version": "1.2.0",
            "grid_template_areas": null,
            "object_position": null,
            "object_fit": null,
            "grid_auto_columns": null,
            "margin": null,
            "display": null,
            "left": null
          }
        },
        "c74779304ba340cab1d6f43344d1e7d3": {
          "model_module": "@jupyter-widgets/controls",
          "model_name": "DescriptionStyleModel",
          "state": {
            "_view_name": "StyleView",
            "_model_name": "DescriptionStyleModel",
            "description_width": "",
            "_view_module": "@jupyter-widgets/base",
            "_model_module_version": "1.5.0",
            "_view_count": null,
            "_view_module_version": "1.2.0",
            "_model_module": "@jupyter-widgets/controls"
          }
        },
        "d042540cb1d74a7cb35e7f0c39849495": {
          "model_module": "@jupyter-widgets/base",
          "model_name": "LayoutModel",
          "state": {
            "_view_name": "LayoutView",
            "grid_template_rows": null,
            "right": null,
            "justify_content": null,
            "_view_module": "@jupyter-widgets/base",
            "overflow": null,
            "_model_module_version": "1.2.0",
            "_view_count": null,
            "flex_flow": null,
            "width": null,
            "min_width": null,
            "border": null,
            "align_items": null,
            "bottom": null,
            "_model_module": "@jupyter-widgets/base",
            "top": null,
            "grid_column": null,
            "overflow_y": null,
            "overflow_x": null,
            "grid_auto_flow": null,
            "grid_area": null,
            "grid_template_columns": null,
            "flex": null,
            "_model_name": "LayoutModel",
            "justify_items": null,
            "grid_row": null,
            "max_height": null,
            "align_content": null,
            "visibility": null,
            "align_self": null,
            "height": null,
            "min_height": null,
            "padding": null,
            "grid_auto_rows": null,
            "grid_gap": null,
            "max_width": null,
            "order": null,
            "_view_module_version": "1.2.0",
            "grid_template_areas": null,
            "object_position": null,
            "object_fit": null,
            "grid_auto_columns": null,
            "margin": null,
            "display": null,
            "left": null
          }
        },
        "6758f1644eb24db69ff4c482ccc51e19": {
          "model_module": "@jupyter-widgets/controls",
          "model_name": "HBoxModel",
          "state": {
            "_view_name": "HBoxView",
            "_dom_classes": [],
            "_model_name": "HBoxModel",
            "_view_module": "@jupyter-widgets/controls",
            "_model_module_version": "1.5.0",
            "_view_count": null,
            "_view_module_version": "1.5.0",
            "box_style": "",
            "layout": "IPY_MODEL_002bdde9ff624136bb2519deff749ca7",
            "_model_module": "@jupyter-widgets/controls",
            "children": [
              "IPY_MODEL_a3f0b99b697d4f22b3f13844cec9a401",
              "IPY_MODEL_cbdb808fb95947a2acca48fc308c5de9"
            ]
          }
        },
        "002bdde9ff624136bb2519deff749ca7": {
          "model_module": "@jupyter-widgets/base",
          "model_name": "LayoutModel",
          "state": {
            "_view_name": "LayoutView",
            "grid_template_rows": null,
            "right": null,
            "justify_content": null,
            "_view_module": "@jupyter-widgets/base",
            "overflow": null,
            "_model_module_version": "1.2.0",
            "_view_count": null,
            "flex_flow": null,
            "width": null,
            "min_width": null,
            "border": null,
            "align_items": null,
            "bottom": null,
            "_model_module": "@jupyter-widgets/base",
            "top": null,
            "grid_column": null,
            "overflow_y": null,
            "overflow_x": null,
            "grid_auto_flow": null,
            "grid_area": null,
            "grid_template_columns": null,
            "flex": null,
            "_model_name": "LayoutModel",
            "justify_items": null,
            "grid_row": null,
            "max_height": null,
            "align_content": null,
            "visibility": null,
            "align_self": null,
            "height": null,
            "min_height": null,
            "padding": null,
            "grid_auto_rows": null,
            "grid_gap": null,
            "max_width": null,
            "order": null,
            "_view_module_version": "1.2.0",
            "grid_template_areas": null,
            "object_position": null,
            "object_fit": null,
            "grid_auto_columns": null,
            "margin": null,
            "display": null,
            "left": null
          }
        },
        "a3f0b99b697d4f22b3f13844cec9a401": {
          "model_module": "@jupyter-widgets/controls",
          "model_name": "FloatProgressModel",
          "state": {
            "_view_name": "ProgressView",
            "style": "IPY_MODEL_507f2b7a8bd3414599d89e9fca2629ee",
            "_dom_classes": [],
            "description": "Downloading: 100%",
            "_model_name": "FloatProgressModel",
            "bar_style": "success",
            "max": 642,
            "_view_module": "@jupyter-widgets/controls",
            "_model_module_version": "1.5.0",
            "value": 642,
            "_view_count": null,
            "_view_module_version": "1.5.0",
            "orientation": "horizontal",
            "min": 0,
            "description_tooltip": null,
            "_model_module": "@jupyter-widgets/controls",
            "layout": "IPY_MODEL_01b780194815400ba2f2c3826496661f"
          }
        },
        "cbdb808fb95947a2acca48fc308c5de9": {
          "model_module": "@jupyter-widgets/controls",
          "model_name": "HTMLModel",
          "state": {
            "_view_name": "HTMLView",
            "style": "IPY_MODEL_3d005d10b1404133b89c5e97fb550bbf",
            "_dom_classes": [],
            "description": "",
            "_model_name": "HTMLModel",
            "placeholder": "​",
            "_view_module": "@jupyter-widgets/controls",
            "_model_module_version": "1.5.0",
            "value": " 642/642 [00:00&lt;00:00, 2.56kB/s]",
            "_view_count": null,
            "_view_module_version": "1.5.0",
            "description_tooltip": null,
            "_model_module": "@jupyter-widgets/controls",
            "layout": "IPY_MODEL_34218f2bb8274eb9b2ff73d1762189b7"
          }
        },
        "507f2b7a8bd3414599d89e9fca2629ee": {
          "model_module": "@jupyter-widgets/controls",
          "model_name": "ProgressStyleModel",
          "state": {
            "_view_name": "StyleView",
            "_model_name": "ProgressStyleModel",
            "description_width": "initial",
            "_view_module": "@jupyter-widgets/base",
            "_model_module_version": "1.5.0",
            "_view_count": null,
            "_view_module_version": "1.2.0",
            "bar_color": null,
            "_model_module": "@jupyter-widgets/controls"
          }
        },
        "01b780194815400ba2f2c3826496661f": {
          "model_module": "@jupyter-widgets/base",
          "model_name": "LayoutModel",
          "state": {
            "_view_name": "LayoutView",
            "grid_template_rows": null,
            "right": null,
            "justify_content": null,
            "_view_module": "@jupyter-widgets/base",
            "overflow": null,
            "_model_module_version": "1.2.0",
            "_view_count": null,
            "flex_flow": null,
            "width": null,
            "min_width": null,
            "border": null,
            "align_items": null,
            "bottom": null,
            "_model_module": "@jupyter-widgets/base",
            "top": null,
            "grid_column": null,
            "overflow_y": null,
            "overflow_x": null,
            "grid_auto_flow": null,
            "grid_area": null,
            "grid_template_columns": null,
            "flex": null,
            "_model_name": "LayoutModel",
            "justify_items": null,
            "grid_row": null,
            "max_height": null,
            "align_content": null,
            "visibility": null,
            "align_self": null,
            "height": null,
            "min_height": null,
            "padding": null,
            "grid_auto_rows": null,
            "grid_gap": null,
            "max_width": null,
            "order": null,
            "_view_module_version": "1.2.0",
            "grid_template_areas": null,
            "object_position": null,
            "object_fit": null,
            "grid_auto_columns": null,
            "margin": null,
            "display": null,
            "left": null
          }
        },
        "3d005d10b1404133b89c5e97fb550bbf": {
          "model_module": "@jupyter-widgets/controls",
          "model_name": "DescriptionStyleModel",
          "state": {
            "_view_name": "StyleView",
            "_model_name": "DescriptionStyleModel",
            "description_width": "",
            "_view_module": "@jupyter-widgets/base",
            "_model_module_version": "1.5.0",
            "_view_count": null,
            "_view_module_version": "1.2.0",
            "_model_module": "@jupyter-widgets/controls"
          }
        },
        "34218f2bb8274eb9b2ff73d1762189b7": {
          "model_module": "@jupyter-widgets/base",
          "model_name": "LayoutModel",
          "state": {
            "_view_name": "LayoutView",
            "grid_template_rows": null,
            "right": null,
            "justify_content": null,
            "_view_module": "@jupyter-widgets/base",
            "overflow": null,
            "_model_module_version": "1.2.0",
            "_view_count": null,
            "flex_flow": null,
            "width": null,
            "min_width": null,
            "border": null,
            "align_items": null,
            "bottom": null,
            "_model_module": "@jupyter-widgets/base",
            "top": null,
            "grid_column": null,
            "overflow_y": null,
            "overflow_x": null,
            "grid_auto_flow": null,
            "grid_area": null,
            "grid_template_columns": null,
            "flex": null,
            "_model_name": "LayoutModel",
            "justify_items": null,
            "grid_row": null,
            "max_height": null,
            "align_content": null,
            "visibility": null,
            "align_self": null,
            "height": null,
            "min_height": null,
            "padding": null,
            "grid_auto_rows": null,
            "grid_gap": null,
            "max_width": null,
            "order": null,
            "_view_module_version": "1.2.0",
            "grid_template_areas": null,
            "object_position": null,
            "object_fit": null,
            "grid_auto_columns": null,
            "margin": null,
            "display": null,
            "left": null
          }
        },
        "a2df6e43d51b44d697c1d622070c16db": {
          "model_module": "@jupyter-widgets/controls",
          "model_name": "HBoxModel",
          "state": {
            "_view_name": "HBoxView",
            "_dom_classes": [],
            "_model_name": "HBoxModel",
            "_view_module": "@jupyter-widgets/controls",
            "_model_module_version": "1.5.0",
            "_view_count": null,
            "_view_module_version": "1.5.0",
            "box_style": "",
            "layout": "IPY_MODEL_401222c72a4341cfb75860e33ef6eca3",
            "_model_module": "@jupyter-widgets/controls",
            "children": [
              "IPY_MODEL_ccad10a439ec40b6a38909d158acf2ef",
              "IPY_MODEL_2ec5bc573be2444fbe7fa1a74f64e09a"
            ]
          }
        },
        "401222c72a4341cfb75860e33ef6eca3": {
          "model_module": "@jupyter-widgets/base",
          "model_name": "LayoutModel",
          "state": {
            "_view_name": "LayoutView",
            "grid_template_rows": null,
            "right": null,
            "justify_content": null,
            "_view_module": "@jupyter-widgets/base",
            "overflow": null,
            "_model_module_version": "1.2.0",
            "_view_count": null,
            "flex_flow": null,
            "width": null,
            "min_width": null,
            "border": null,
            "align_items": null,
            "bottom": null,
            "_model_module": "@jupyter-widgets/base",
            "top": null,
            "grid_column": null,
            "overflow_y": null,
            "overflow_x": null,
            "grid_auto_flow": null,
            "grid_area": null,
            "grid_template_columns": null,
            "flex": null,
            "_model_name": "LayoutModel",
            "justify_items": null,
            "grid_row": null,
            "max_height": null,
            "align_content": null,
            "visibility": null,
            "align_self": null,
            "height": null,
            "min_height": null,
            "padding": null,
            "grid_auto_rows": null,
            "grid_gap": null,
            "max_width": null,
            "order": null,
            "_view_module_version": "1.2.0",
            "grid_template_areas": null,
            "object_position": null,
            "object_fit": null,
            "grid_auto_columns": null,
            "margin": null,
            "display": null,
            "left": null
          }
        },
        "ccad10a439ec40b6a38909d158acf2ef": {
          "model_module": "@jupyter-widgets/controls",
          "model_name": "FloatProgressModel",
          "state": {
            "_view_name": "ProgressView",
            "style": "IPY_MODEL_0297ef76b5a74022a74c0cbdfd7b0f89",
            "_dom_classes": [],
            "description": "Downloading: 100%",
            "_model_name": "FloatProgressModel",
            "bar_style": "success",
            "max": 1042301,
            "_view_module": "@jupyter-widgets/controls",
            "_model_module_version": "1.5.0",
            "value": 1042301,
            "_view_count": null,
            "_view_module_version": "1.5.0",
            "orientation": "horizontal",
            "min": 0,
            "description_tooltip": null,
            "_model_module": "@jupyter-widgets/controls",
            "layout": "IPY_MODEL_4625a10f33a14457b2a6800ac230fb1b"
          }
        },
        "2ec5bc573be2444fbe7fa1a74f64e09a": {
          "model_module": "@jupyter-widgets/controls",
          "model_name": "HTMLModel",
          "state": {
            "_view_name": "HTMLView",
            "style": "IPY_MODEL_98820035f4134298a1ca3b3c71f23b80",
            "_dom_classes": [],
            "description": "",
            "_model_name": "HTMLModel",
            "placeholder": "​",
            "_view_module": "@jupyter-widgets/controls",
            "_model_module_version": "1.5.0",
            "value": " 1.04M/1.04M [00:00&lt;00:00, 7.70MB/s]",
            "_view_count": null,
            "_view_module_version": "1.5.0",
            "description_tooltip": null,
            "_model_module": "@jupyter-widgets/controls",
            "layout": "IPY_MODEL_356131eec8944eaf82da5611346c1a29"
          }
        },
        "0297ef76b5a74022a74c0cbdfd7b0f89": {
          "model_module": "@jupyter-widgets/controls",
          "model_name": "ProgressStyleModel",
          "state": {
            "_view_name": "StyleView",
            "_model_name": "ProgressStyleModel",
            "description_width": "initial",
            "_view_module": "@jupyter-widgets/base",
            "_model_module_version": "1.5.0",
            "_view_count": null,
            "_view_module_version": "1.2.0",
            "bar_color": null,
            "_model_module": "@jupyter-widgets/controls"
          }
        },
        "4625a10f33a14457b2a6800ac230fb1b": {
          "model_module": "@jupyter-widgets/base",
          "model_name": "LayoutModel",
          "state": {
            "_view_name": "LayoutView",
            "grid_template_rows": null,
            "right": null,
            "justify_content": null,
            "_view_module": "@jupyter-widgets/base",
            "overflow": null,
            "_model_module_version": "1.2.0",
            "_view_count": null,
            "flex_flow": null,
            "width": null,
            "min_width": null,
            "border": null,
            "align_items": null,
            "bottom": null,
            "_model_module": "@jupyter-widgets/base",
            "top": null,
            "grid_column": null,
            "overflow_y": null,
            "overflow_x": null,
            "grid_auto_flow": null,
            "grid_area": null,
            "grid_template_columns": null,
            "flex": null,
            "_model_name": "LayoutModel",
            "justify_items": null,
            "grid_row": null,
            "max_height": null,
            "align_content": null,
            "visibility": null,
            "align_self": null,
            "height": null,
            "min_height": null,
            "padding": null,
            "grid_auto_rows": null,
            "grid_gap": null,
            "max_width": null,
            "order": null,
            "_view_module_version": "1.2.0",
            "grid_template_areas": null,
            "object_position": null,
            "object_fit": null,
            "grid_auto_columns": null,
            "margin": null,
            "display": null,
            "left": null
          }
        },
        "98820035f4134298a1ca3b3c71f23b80": {
          "model_module": "@jupyter-widgets/controls",
          "model_name": "DescriptionStyleModel",
          "state": {
            "_view_name": "StyleView",
            "_model_name": "DescriptionStyleModel",
            "description_width": "",
            "_view_module": "@jupyter-widgets/base",
            "_model_module_version": "1.5.0",
            "_view_count": null,
            "_view_module_version": "1.2.0",
            "_model_module": "@jupyter-widgets/controls"
          }
        },
        "356131eec8944eaf82da5611346c1a29": {
          "model_module": "@jupyter-widgets/base",
          "model_name": "LayoutModel",
          "state": {
            "_view_name": "LayoutView",
            "grid_template_rows": null,
            "right": null,
            "justify_content": null,
            "_view_module": "@jupyter-widgets/base",
            "overflow": null,
            "_model_module_version": "1.2.0",
            "_view_count": null,
            "flex_flow": null,
            "width": null,
            "min_width": null,
            "border": null,
            "align_items": null,
            "bottom": null,
            "_model_module": "@jupyter-widgets/base",
            "top": null,
            "grid_column": null,
            "overflow_y": null,
            "overflow_x": null,
            "grid_auto_flow": null,
            "grid_area": null,
            "grid_template_columns": null,
            "flex": null,
            "_model_name": "LayoutModel",
            "justify_items": null,
            "grid_row": null,
            "max_height": null,
            "align_content": null,
            "visibility": null,
            "align_self": null,
            "height": null,
            "min_height": null,
            "padding": null,
            "grid_auto_rows": null,
            "grid_gap": null,
            "max_width": null,
            "order": null,
            "_view_module_version": "1.2.0",
            "grid_template_areas": null,
            "object_position": null,
            "object_fit": null,
            "grid_auto_columns": null,
            "margin": null,
            "display": null,
            "left": null
          }
        },
        "53773d0ae8df4b4bab55ae5bbb538989": {
          "model_module": "@jupyter-widgets/controls",
          "model_name": "HBoxModel",
          "state": {
            "_view_name": "HBoxView",
            "_dom_classes": [],
            "_model_name": "HBoxModel",
            "_view_module": "@jupyter-widgets/controls",
            "_model_module_version": "1.5.0",
            "_view_count": null,
            "_view_module_version": "1.5.0",
            "box_style": "",
            "layout": "IPY_MODEL_c6a73dadccd74150a4c81a11cc446017",
            "_model_module": "@jupyter-widgets/controls",
            "children": [
              "IPY_MODEL_5cbc6671aaeb4f23ba627f2742e66736",
              "IPY_MODEL_5e2687226f1d4bbbad9bb7e3277a4294"
            ]
          }
        },
        "c6a73dadccd74150a4c81a11cc446017": {
          "model_module": "@jupyter-widgets/base",
          "model_name": "LayoutModel",
          "state": {
            "_view_name": "LayoutView",
            "grid_template_rows": null,
            "right": null,
            "justify_content": null,
            "_view_module": "@jupyter-widgets/base",
            "overflow": null,
            "_model_module_version": "1.2.0",
            "_view_count": null,
            "flex_flow": null,
            "width": null,
            "min_width": null,
            "border": null,
            "align_items": null,
            "bottom": null,
            "_model_module": "@jupyter-widgets/base",
            "top": null,
            "grid_column": null,
            "overflow_y": null,
            "overflow_x": null,
            "grid_auto_flow": null,
            "grid_area": null,
            "grid_template_columns": null,
            "flex": null,
            "_model_name": "LayoutModel",
            "justify_items": null,
            "grid_row": null,
            "max_height": null,
            "align_content": null,
            "visibility": null,
            "align_self": null,
            "height": null,
            "min_height": null,
            "padding": null,
            "grid_auto_rows": null,
            "grid_gap": null,
            "max_width": null,
            "order": null,
            "_view_module_version": "1.2.0",
            "grid_template_areas": null,
            "object_position": null,
            "object_fit": null,
            "grid_auto_columns": null,
            "margin": null,
            "display": null,
            "left": null
          }
        },
        "5cbc6671aaeb4f23ba627f2742e66736": {
          "model_module": "@jupyter-widgets/controls",
          "model_name": "FloatProgressModel",
          "state": {
            "_view_name": "ProgressView",
            "style": "IPY_MODEL_bf3d718f0cf9411db6ceeb413cafc7e2",
            "_dom_classes": [],
            "description": "Downloading: 100%",
            "_model_name": "FloatProgressModel",
            "bar_style": "success",
            "max": 456318,
            "_view_module": "@jupyter-widgets/controls",
            "_model_module_version": "1.5.0",
            "value": 456318,
            "_view_count": null,
            "_view_module_version": "1.5.0",
            "orientation": "horizontal",
            "min": 0,
            "description_tooltip": null,
            "_model_module": "@jupyter-widgets/controls",
            "layout": "IPY_MODEL_07c4fc085e7c4376aac12125e0302edb"
          }
        },
        "5e2687226f1d4bbbad9bb7e3277a4294": {
          "model_module": "@jupyter-widgets/controls",
          "model_name": "HTMLModel",
          "state": {
            "_view_name": "HTMLView",
            "style": "IPY_MODEL_cacf87c9687d4b46a89b1501d8fc105b",
            "_dom_classes": [],
            "description": "",
            "_model_name": "HTMLModel",
            "placeholder": "​",
            "_view_module": "@jupyter-widgets/controls",
            "_model_module_version": "1.5.0",
            "value": " 456k/456k [00:00&lt;00:00, 2.23MB/s]",
            "_view_count": null,
            "_view_module_version": "1.5.0",
            "description_tooltip": null,
            "_model_module": "@jupyter-widgets/controls",
            "layout": "IPY_MODEL_6291d8387db94f1aab3de47651cf6067"
          }
        },
        "bf3d718f0cf9411db6ceeb413cafc7e2": {
          "model_module": "@jupyter-widgets/controls",
          "model_name": "ProgressStyleModel",
          "state": {
            "_view_name": "StyleView",
            "_model_name": "ProgressStyleModel",
            "description_width": "initial",
            "_view_module": "@jupyter-widgets/base",
            "_model_module_version": "1.5.0",
            "_view_count": null,
            "_view_module_version": "1.2.0",
            "bar_color": null,
            "_model_module": "@jupyter-widgets/controls"
          }
        },
        "07c4fc085e7c4376aac12125e0302edb": {
          "model_module": "@jupyter-widgets/base",
          "model_name": "LayoutModel",
          "state": {
            "_view_name": "LayoutView",
            "grid_template_rows": null,
            "right": null,
            "justify_content": null,
            "_view_module": "@jupyter-widgets/base",
            "overflow": null,
            "_model_module_version": "1.2.0",
            "_view_count": null,
            "flex_flow": null,
            "width": null,
            "min_width": null,
            "border": null,
            "align_items": null,
            "bottom": null,
            "_model_module": "@jupyter-widgets/base",
            "top": null,
            "grid_column": null,
            "overflow_y": null,
            "overflow_x": null,
            "grid_auto_flow": null,
            "grid_area": null,
            "grid_template_columns": null,
            "flex": null,
            "_model_name": "LayoutModel",
            "justify_items": null,
            "grid_row": null,
            "max_height": null,
            "align_content": null,
            "visibility": null,
            "align_self": null,
            "height": null,
            "min_height": null,
            "padding": null,
            "grid_auto_rows": null,
            "grid_gap": null,
            "max_width": null,
            "order": null,
            "_view_module_version": "1.2.0",
            "grid_template_areas": null,
            "object_position": null,
            "object_fit": null,
            "grid_auto_columns": null,
            "margin": null,
            "display": null,
            "left": null
          }
        },
        "cacf87c9687d4b46a89b1501d8fc105b": {
          "model_module": "@jupyter-widgets/controls",
          "model_name": "DescriptionStyleModel",
          "state": {
            "_view_name": "StyleView",
            "_model_name": "DescriptionStyleModel",
            "description_width": "",
            "_view_module": "@jupyter-widgets/base",
            "_model_module_version": "1.5.0",
            "_view_count": null,
            "_view_module_version": "1.2.0",
            "_model_module": "@jupyter-widgets/controls"
          }
        },
        "6291d8387db94f1aab3de47651cf6067": {
          "model_module": "@jupyter-widgets/base",
          "model_name": "LayoutModel",
          "state": {
            "_view_name": "LayoutView",
            "grid_template_rows": null,
            "right": null,
            "justify_content": null,
            "_view_module": "@jupyter-widgets/base",
            "overflow": null,
            "_model_module_version": "1.2.0",
            "_view_count": null,
            "flex_flow": null,
            "width": null,
            "min_width": null,
            "border": null,
            "align_items": null,
            "bottom": null,
            "_model_module": "@jupyter-widgets/base",
            "top": null,
            "grid_column": null,
            "overflow_y": null,
            "overflow_x": null,
            "grid_auto_flow": null,
            "grid_area": null,
            "grid_template_columns": null,
            "flex": null,
            "_model_name": "LayoutModel",
            "justify_items": null,
            "grid_row": null,
            "max_height": null,
            "align_content": null,
            "visibility": null,
            "align_self": null,
            "height": null,
            "min_height": null,
            "padding": null,
            "grid_auto_rows": null,
            "grid_gap": null,
            "max_width": null,
            "order": null,
            "_view_module_version": "1.2.0",
            "grid_template_areas": null,
            "object_position": null,
            "object_fit": null,
            "grid_auto_columns": null,
            "margin": null,
            "display": null,
            "left": null
          }
        },
        "ab2eff97d60e43388c29c6cc1e268bbb": {
          "model_module": "@jupyter-widgets/controls",
          "model_name": "HBoxModel",
          "state": {
            "_view_name": "HBoxView",
            "_dom_classes": [],
            "_model_name": "HBoxModel",
            "_view_module": "@jupyter-widgets/controls",
            "_model_module_version": "1.5.0",
            "_view_count": null,
            "_view_module_version": "1.5.0",
            "box_style": "",
            "layout": "IPY_MODEL_2b45641c578f414d8984b54d39e0148c",
            "_model_module": "@jupyter-widgets/controls",
            "children": [
              "IPY_MODEL_7f2497ea83754917842868db9262b8c4",
              "IPY_MODEL_916448a74a414a07b95b1a7281ba8c8c"
            ]
          }
        },
        "2b45641c578f414d8984b54d39e0148c": {
          "model_module": "@jupyter-widgets/base",
          "model_name": "LayoutModel",
          "state": {
            "_view_name": "LayoutView",
            "grid_template_rows": null,
            "right": null,
            "justify_content": null,
            "_view_module": "@jupyter-widgets/base",
            "overflow": null,
            "_model_module_version": "1.2.0",
            "_view_count": null,
            "flex_flow": null,
            "width": null,
            "min_width": null,
            "border": null,
            "align_items": null,
            "bottom": null,
            "_model_module": "@jupyter-widgets/base",
            "top": null,
            "grid_column": null,
            "overflow_y": null,
            "overflow_x": null,
            "grid_auto_flow": null,
            "grid_area": null,
            "grid_template_columns": null,
            "flex": null,
            "_model_name": "LayoutModel",
            "justify_items": null,
            "grid_row": null,
            "max_height": null,
            "align_content": null,
            "visibility": null,
            "align_self": null,
            "height": null,
            "min_height": null,
            "padding": null,
            "grid_auto_rows": null,
            "grid_gap": null,
            "max_width": null,
            "order": null,
            "_view_module_version": "1.2.0",
            "grid_template_areas": null,
            "object_position": null,
            "object_fit": null,
            "grid_auto_columns": null,
            "margin": null,
            "display": null,
            "left": null
          }
        },
        "7f2497ea83754917842868db9262b8c4": {
          "model_module": "@jupyter-widgets/controls",
          "model_name": "FloatProgressModel",
          "state": {
            "_view_name": "ProgressView",
            "style": "IPY_MODEL_98a3e92a442146d58f1bafbd32ca88ee",
            "_dom_classes": [],
            "description": "Downloading: 100%",
            "_model_name": "FloatProgressModel",
            "bar_style": "success",
            "max": 862955157,
            "_view_module": "@jupyter-widgets/controls",
            "_model_module_version": "1.5.0",
            "value": 862955157,
            "_view_count": null,
            "_view_module_version": "1.5.0",
            "orientation": "horizontal",
            "min": 0,
            "description_tooltip": null,
            "_model_module": "@jupyter-widgets/controls",
            "layout": "IPY_MODEL_3c38db393002460bb0830a39a3d4c4cf"
          }
        },
        "916448a74a414a07b95b1a7281ba8c8c": {
          "model_module": "@jupyter-widgets/controls",
          "model_name": "HTMLModel",
          "state": {
            "_view_name": "HTMLView",
            "style": "IPY_MODEL_b8389984e2d24950b72fcb6078e02906",
            "_dom_classes": [],
            "description": "",
            "_model_name": "HTMLModel",
            "placeholder": "​",
            "_view_module": "@jupyter-widgets/controls",
            "_model_module_version": "1.5.0",
            "value": " 863M/863M [00:20&lt;00:00, 43.0MB/s]",
            "_view_count": null,
            "_view_module_version": "1.5.0",
            "description_tooltip": null,
            "_model_module": "@jupyter-widgets/controls",
            "layout": "IPY_MODEL_6bf0f263c95447999804158b65176aae"
          }
        },
        "98a3e92a442146d58f1bafbd32ca88ee": {
          "model_module": "@jupyter-widgets/controls",
          "model_name": "ProgressStyleModel",
          "state": {
            "_view_name": "StyleView",
            "_model_name": "ProgressStyleModel",
            "description_width": "initial",
            "_view_module": "@jupyter-widgets/base",
            "_model_module_version": "1.5.0",
            "_view_count": null,
            "_view_module_version": "1.2.0",
            "bar_color": null,
            "_model_module": "@jupyter-widgets/controls"
          }
        },
        "3c38db393002460bb0830a39a3d4c4cf": {
          "model_module": "@jupyter-widgets/base",
          "model_name": "LayoutModel",
          "state": {
            "_view_name": "LayoutView",
            "grid_template_rows": null,
            "right": null,
            "justify_content": null,
            "_view_module": "@jupyter-widgets/base",
            "overflow": null,
            "_model_module_version": "1.2.0",
            "_view_count": null,
            "flex_flow": null,
            "width": null,
            "min_width": null,
            "border": null,
            "align_items": null,
            "bottom": null,
            "_model_module": "@jupyter-widgets/base",
            "top": null,
            "grid_column": null,
            "overflow_y": null,
            "overflow_x": null,
            "grid_auto_flow": null,
            "grid_area": null,
            "grid_template_columns": null,
            "flex": null,
            "_model_name": "LayoutModel",
            "justify_items": null,
            "grid_row": null,
            "max_height": null,
            "align_content": null,
            "visibility": null,
            "align_self": null,
            "height": null,
            "min_height": null,
            "padding": null,
            "grid_auto_rows": null,
            "grid_gap": null,
            "max_width": null,
            "order": null,
            "_view_module_version": "1.2.0",
            "grid_template_areas": null,
            "object_position": null,
            "object_fit": null,
            "grid_auto_columns": null,
            "margin": null,
            "display": null,
            "left": null
          }
        },
        "b8389984e2d24950b72fcb6078e02906": {
          "model_module": "@jupyter-widgets/controls",
          "model_name": "DescriptionStyleModel",
          "state": {
            "_view_name": "StyleView",
            "_model_name": "DescriptionStyleModel",
            "description_width": "",
            "_view_module": "@jupyter-widgets/base",
            "_model_module_version": "1.5.0",
            "_view_count": null,
            "_view_module_version": "1.2.0",
            "_model_module": "@jupyter-widgets/controls"
          }
        },
        "6bf0f263c95447999804158b65176aae": {
          "model_module": "@jupyter-widgets/base",
          "model_name": "LayoutModel",
          "state": {
            "_view_name": "LayoutView",
            "grid_template_rows": null,
            "right": null,
            "justify_content": null,
            "_view_module": "@jupyter-widgets/base",
            "overflow": null,
            "_model_module_version": "1.2.0",
            "_view_count": null,
            "flex_flow": null,
            "width": null,
            "min_width": null,
            "border": null,
            "align_items": null,
            "bottom": null,
            "_model_module": "@jupyter-widgets/base",
            "top": null,
            "grid_column": null,
            "overflow_y": null,
            "overflow_x": null,
            "grid_auto_flow": null,
            "grid_area": null,
            "grid_template_columns": null,
            "flex": null,
            "_model_name": "LayoutModel",
            "justify_items": null,
            "grid_row": null,
            "max_height": null,
            "align_content": null,
            "visibility": null,
            "align_self": null,
            "height": null,
            "min_height": null,
            "padding": null,
            "grid_auto_rows": null,
            "grid_gap": null,
            "max_width": null,
            "order": null,
            "_view_module_version": "1.2.0",
            "grid_template_areas": null,
            "object_position": null,
            "object_fit": null,
            "grid_auto_columns": null,
            "margin": null,
            "display": null,
            "left": null
          }
        }
      }
    }
  },
  "cells": [
    {
      "cell_type": "markdown",
      "metadata": {
        "id": "view-in-github",
        "colab_type": "text"
      },
      "source": [
        "<a href=\"https://colab.research.google.com/github/Kitkat1021/DialoGPT/blob/main/DialoGPT_Chatbot.ipynb\" target=\"_parent\"><img src=\"https://colab.research.google.com/assets/colab-badge.svg\" alt=\"Open In Colab\"/></a>"
      ]
    },
    {
      "cell_type": "markdown",
      "metadata": {
        "id": "CR1IZdfDfsMp"
      },
      "source": [
        "# DialoGPT- CHATBOT\n",
        "Code via Hugging Face's tweet.\n",
        "\n",
        "documentation: https://huggingface.co/transformers/model_doc/dialogpt.html\n",
        "\n",
        "\n",
        "\n",
        "![alt text](http://quantumstat.com/wp-content/uploads/qs-logo-3.png) \n",
        "\n"
      ]
    },
    {
      "cell_type": "code",
      "metadata": {
        "id": "hrvnJt31dRIs",
        "colab": {
          "base_uri": "https://localhost:8080/"
        },
        "outputId": "4e8bec3a-7a49-45c1-e80e-25b75261f2ac"
      },
      "source": [
        "!pip install transformers\n",
        "from transformers import AutoModelWithLMHead, AutoTokenizer\n",
        "import torch\n"
      ],
      "execution_count": 1,
      "outputs": [
        {
          "output_type": "stream",
          "text": [
            "Collecting transformers\n",
            "\u001b[?25l  Downloading https://files.pythonhosted.org/packages/fd/1a/41c644c963249fd7f3836d926afa1e3f1cc234a1c40d80c5f03ad8f6f1b2/transformers-4.8.2-py3-none-any.whl (2.5MB)\n",
            "\r\u001b[K     |▏                               | 10kB 19.7MB/s eta 0:00:01\r\u001b[K     |▎                               | 20kB 25.8MB/s eta 0:00:01\r\u001b[K     |▍                               | 30kB 29.1MB/s eta 0:00:01\r\u001b[K     |▌                               | 40kB 30.6MB/s eta 0:00:01\r\u001b[K     |▋                               | 51kB 31.2MB/s eta 0:00:01\r\u001b[K     |▉                               | 61kB 32.3MB/s eta 0:00:01\r\u001b[K     |█                               | 71kB 32.6MB/s eta 0:00:01\r\u001b[K     |█                               | 81kB 32.5MB/s eta 0:00:01\r\u001b[K     |█▏                              | 92kB 33.4MB/s eta 0:00:01\r\u001b[K     |█▎                              | 102kB 34.2MB/s eta 0:00:01\r\u001b[K     |█▍                              | 112kB 34.2MB/s eta 0:00:01\r\u001b[K     |█▋                              | 122kB 34.2MB/s eta 0:00:01\r\u001b[K     |█▊                              | 133kB 34.2MB/s eta 0:00:01\r\u001b[K     |█▉                              | 143kB 34.2MB/s eta 0:00:01\r\u001b[K     |██                              | 153kB 34.2MB/s eta 0:00:01\r\u001b[K     |██                              | 163kB 34.2MB/s eta 0:00:01\r\u001b[K     |██▎                             | 174kB 34.2MB/s eta 0:00:01\r\u001b[K     |██▍                             | 184kB 34.2MB/s eta 0:00:01\r\u001b[K     |██▌                             | 194kB 34.2MB/s eta 0:00:01\r\u001b[K     |██▋                             | 204kB 34.2MB/s eta 0:00:01\r\u001b[K     |██▊                             | 215kB 34.2MB/s eta 0:00:01\r\u001b[K     |██▉                             | 225kB 34.2MB/s eta 0:00:01\r\u001b[K     |███                             | 235kB 34.2MB/s eta 0:00:01\r\u001b[K     |███▏                            | 245kB 34.2MB/s eta 0:00:01\r\u001b[K     |███▎                            | 256kB 34.2MB/s eta 0:00:01\r\u001b[K     |███▍                            | 266kB 34.2MB/s eta 0:00:01\r\u001b[K     |███▌                            | 276kB 34.2MB/s eta 0:00:01\r\u001b[K     |███▊                            | 286kB 34.2MB/s eta 0:00:01\r\u001b[K     |███▉                            | 296kB 34.2MB/s eta 0:00:01\r\u001b[K     |████                            | 307kB 34.2MB/s eta 0:00:01\r\u001b[K     |████                            | 317kB 34.2MB/s eta 0:00:01\r\u001b[K     |████▏                           | 327kB 34.2MB/s eta 0:00:01\r\u001b[K     |████▎                           | 337kB 34.2MB/s eta 0:00:01\r\u001b[K     |████▌                           | 348kB 34.2MB/s eta 0:00:01\r\u001b[K     |████▋                           | 358kB 34.2MB/s eta 0:00:01\r\u001b[K     |████▊                           | 368kB 34.2MB/s eta 0:00:01\r\u001b[K     |████▉                           | 378kB 34.2MB/s eta 0:00:01\r\u001b[K     |█████                           | 389kB 34.2MB/s eta 0:00:01\r\u001b[K     |█████▏                          | 399kB 34.2MB/s eta 0:00:01\r\u001b[K     |█████▎                          | 409kB 34.2MB/s eta 0:00:01\r\u001b[K     |█████▍                          | 419kB 34.2MB/s eta 0:00:01\r\u001b[K     |█████▌                          | 430kB 34.2MB/s eta 0:00:01\r\u001b[K     |█████▋                          | 440kB 34.2MB/s eta 0:00:01\r\u001b[K     |█████▊                          | 450kB 34.2MB/s eta 0:00:01\r\u001b[K     |██████                          | 460kB 34.2MB/s eta 0:00:01\r\u001b[K     |██████                          | 471kB 34.2MB/s eta 0:00:01\r\u001b[K     |██████▏                         | 481kB 34.2MB/s eta 0:00:01\r\u001b[K     |██████▎                         | 491kB 34.2MB/s eta 0:00:01\r\u001b[K     |██████▍                         | 501kB 34.2MB/s eta 0:00:01\r\u001b[K     |██████▌                         | 512kB 34.2MB/s eta 0:00:01\r\u001b[K     |██████▊                         | 522kB 34.2MB/s eta 0:00:01\r\u001b[K     |██████▉                         | 532kB 34.2MB/s eta 0:00:01\r\u001b[K     |███████                         | 542kB 34.2MB/s eta 0:00:01\r\u001b[K     |███████                         | 552kB 34.2MB/s eta 0:00:01\r\u001b[K     |███████▏                        | 563kB 34.2MB/s eta 0:00:01\r\u001b[K     |███████▍                        | 573kB 34.2MB/s eta 0:00:01\r\u001b[K     |███████▌                        | 583kB 34.2MB/s eta 0:00:01\r\u001b[K     |███████▋                        | 593kB 34.2MB/s eta 0:00:01\r\u001b[K     |███████▊                        | 604kB 34.2MB/s eta 0:00:01\r\u001b[K     |███████▉                        | 614kB 34.2MB/s eta 0:00:01\r\u001b[K     |████████                        | 624kB 34.2MB/s eta 0:00:01\r\u001b[K     |████████▏                       | 634kB 34.2MB/s eta 0:00:01\r\u001b[K     |████████▎                       | 645kB 34.2MB/s eta 0:00:01\r\u001b[K     |████████▍                       | 655kB 34.2MB/s eta 0:00:01\r\u001b[K     |████████▌                       | 665kB 34.2MB/s eta 0:00:01\r\u001b[K     |████████▋                       | 675kB 34.2MB/s eta 0:00:01\r\u001b[K     |████████▉                       | 686kB 34.2MB/s eta 0:00:01\r\u001b[K     |█████████                       | 696kB 34.2MB/s eta 0:00:01\r\u001b[K     |█████████                       | 706kB 34.2MB/s eta 0:00:01\r\u001b[K     |█████████▏                      | 716kB 34.2MB/s eta 0:00:01\r\u001b[K     |█████████▎                      | 727kB 34.2MB/s eta 0:00:01\r\u001b[K     |█████████▍                      | 737kB 34.2MB/s eta 0:00:01\r\u001b[K     |█████████▋                      | 747kB 34.2MB/s eta 0:00:01\r\u001b[K     |█████████▊                      | 757kB 34.2MB/s eta 0:00:01\r\u001b[K     |█████████▉                      | 768kB 34.2MB/s eta 0:00:01\r\u001b[K     |██████████                      | 778kB 34.2MB/s eta 0:00:01\r\u001b[K     |██████████                      | 788kB 34.2MB/s eta 0:00:01\r\u001b[K     |██████████▎                     | 798kB 34.2MB/s eta 0:00:01\r\u001b[K     |██████████▍                     | 808kB 34.2MB/s eta 0:00:01\r\u001b[K     |██████████▌                     | 819kB 34.2MB/s eta 0:00:01\r\u001b[K     |██████████▋                     | 829kB 34.2MB/s eta 0:00:01\r\u001b[K     |██████████▊                     | 839kB 34.2MB/s eta 0:00:01\r\u001b[K     |██████████▉                     | 849kB 34.2MB/s eta 0:00:01\r\u001b[K     |███████████                     | 860kB 34.2MB/s eta 0:00:01\r\u001b[K     |███████████▏                    | 870kB 34.2MB/s eta 0:00:01\r\u001b[K     |███████████▎                    | 880kB 34.2MB/s eta 0:00:01\r\u001b[K     |███████████▍                    | 890kB 34.2MB/s eta 0:00:01\r\u001b[K     |███████████▌                    | 901kB 34.2MB/s eta 0:00:01\r\u001b[K     |███████████▊                    | 911kB 34.2MB/s eta 0:00:01\r\u001b[K     |███████████▉                    | 921kB 34.2MB/s eta 0:00:01\r\u001b[K     |████████████                    | 931kB 34.2MB/s eta 0:00:01\r\u001b[K     |████████████                    | 942kB 34.2MB/s eta 0:00:01\r\u001b[K     |████████████▏                   | 952kB 34.2MB/s eta 0:00:01\r\u001b[K     |████████████▎                   | 962kB 34.2MB/s eta 0:00:01\r\u001b[K     |████████████▌                   | 972kB 34.2MB/s eta 0:00:01\r\u001b[K     |████████████▋                   | 983kB 34.2MB/s eta 0:00:01\r\u001b[K     |████████████▊                   | 993kB 34.2MB/s eta 0:00:01\r\u001b[K     |████████████▉                   | 1.0MB 34.2MB/s eta 0:00:01\r\u001b[K     |█████████████                   | 1.0MB 34.2MB/s eta 0:00:01\r\u001b[K     |█████████████                   | 1.0MB 34.2MB/s eta 0:00:01\r\u001b[K     |█████████████▎                  | 1.0MB 34.2MB/s eta 0:00:01\r\u001b[K     |█████████████▍                  | 1.0MB 34.2MB/s eta 0:00:01\r\u001b[K     |█████████████▌                  | 1.1MB 34.2MB/s eta 0:00:01\r\u001b[K     |█████████████▋                  | 1.1MB 34.2MB/s eta 0:00:01\r\u001b[K     |█████████████▊                  | 1.1MB 34.2MB/s eta 0:00:01\r\u001b[K     |██████████████                  | 1.1MB 34.2MB/s eta 0:00:01\r\u001b[K     |██████████████                  | 1.1MB 34.2MB/s eta 0:00:01\r\u001b[K     |██████████████▏                 | 1.1MB 34.2MB/s eta 0:00:01\r\u001b[K     |██████████████▎                 | 1.1MB 34.2MB/s eta 0:00:01\r\u001b[K     |██████████████▍                 | 1.1MB 34.2MB/s eta 0:00:01\r\u001b[K     |██████████████▌                 | 1.1MB 34.2MB/s eta 0:00:01\r\u001b[K     |██████████████▊                 | 1.1MB 34.2MB/s eta 0:00:01\r\u001b[K     |██████████████▉                 | 1.2MB 34.2MB/s eta 0:00:01\r\u001b[K     |███████████████                 | 1.2MB 34.2MB/s eta 0:00:01\r\u001b[K     |███████████████                 | 1.2MB 34.2MB/s eta 0:00:01\r\u001b[K     |███████████████▏                | 1.2MB 34.2MB/s eta 0:00:01\r\u001b[K     |███████████████▍                | 1.2MB 34.2MB/s eta 0:00:01\r\u001b[K     |███████████████▌                | 1.2MB 34.2MB/s eta 0:00:01\r\u001b[K     |███████████████▋                | 1.2MB 34.2MB/s eta 0:00:01\r\u001b[K     |███████████████▊                | 1.2MB 34.2MB/s eta 0:00:01\r\u001b[K     |███████████████▉                | 1.2MB 34.2MB/s eta 0:00:01\r\u001b[K     |████████████████                | 1.2MB 34.2MB/s eta 0:00:01\r\u001b[K     |████████████████▏               | 1.3MB 34.2MB/s eta 0:00:01\r\u001b[K     |████████████████▎               | 1.3MB 34.2MB/s eta 0:00:01\r\u001b[K     |████████████████▍               | 1.3MB 34.2MB/s eta 0:00:01\r\u001b[K     |████████████████▌               | 1.3MB 34.2MB/s eta 0:00:01\r\u001b[K     |████████████████▋               | 1.3MB 34.2MB/s eta 0:00:01\r\u001b[K     |████████████████▉               | 1.3MB 34.2MB/s eta 0:00:01\r\u001b[K     |█████████████████               | 1.3MB 34.2MB/s eta 0:00:01\r\u001b[K     |█████████████████               | 1.3MB 34.2MB/s eta 0:00:01\r\u001b[K     |█████████████████▏              | 1.3MB 34.2MB/s eta 0:00:01\r\u001b[K     |█████████████████▎              | 1.4MB 34.2MB/s eta 0:00:01\r\u001b[K     |█████████████████▍              | 1.4MB 34.2MB/s eta 0:00:01\r\u001b[K     |█████████████████▋              | 1.4MB 34.2MB/s eta 0:00:01\r\u001b[K     |█████████████████▊              | 1.4MB 34.2MB/s eta 0:00:01\r\u001b[K     |█████████████████▉              | 1.4MB 34.2MB/s eta 0:00:01\r\u001b[K     |██████████████████              | 1.4MB 34.2MB/s eta 0:00:01\r\u001b[K     |██████████████████              | 1.4MB 34.2MB/s eta 0:00:01\r\u001b[K     |██████████████████▎             | 1.4MB 34.2MB/s eta 0:00:01\r\u001b[K     |██████████████████▍             | 1.4MB 34.2MB/s eta 0:00:01\r\u001b[K     |██████████████████▌             | 1.4MB 34.2MB/s eta 0:00:01\r\u001b[K     |██████████████████▋             | 1.5MB 34.2MB/s eta 0:00:01\r\u001b[K     |██████████████████▊             | 1.5MB 34.2MB/s eta 0:00:01\r\u001b[K     |██████████████████▉             | 1.5MB 34.2MB/s eta 0:00:01\r\u001b[K     |███████████████████             | 1.5MB 34.2MB/s eta 0:00:01\r\u001b[K     |███████████████████▏            | 1.5MB 34.2MB/s eta 0:00:01\r\u001b[K     |███████████████████▎            | 1.5MB 34.2MB/s eta 0:00:01\r\u001b[K     |███████████████████▍            | 1.5MB 34.2MB/s eta 0:00:01\r\u001b[K     |███████████████████▌            | 1.5MB 34.2MB/s eta 0:00:01\r\u001b[K     |███████████████████▋            | 1.5MB 34.2MB/s eta 0:00:01\r\u001b[K     |███████████████████▉            | 1.5MB 34.2MB/s eta 0:00:01\r\u001b[K     |████████████████████            | 1.6MB 34.2MB/s eta 0:00:01\r\u001b[K     |████████████████████            | 1.6MB 34.2MB/s eta 0:00:01\r\u001b[K     |████████████████████▏           | 1.6MB 34.2MB/s eta 0:00:01\r\u001b[K     |████████████████████▎           | 1.6MB 34.2MB/s eta 0:00:01\r\u001b[K     |████████████████████▌           | 1.6MB 34.2MB/s eta 0:00:01\r\u001b[K     |████████████████████▋           | 1.6MB 34.2MB/s eta 0:00:01\r\u001b[K     |████████████████████▊           | 1.6MB 34.2MB/s eta 0:00:01\r\u001b[K     |████████████████████▉           | 1.6MB 34.2MB/s eta 0:00:01\r\u001b[K     |█████████████████████           | 1.6MB 34.2MB/s eta 0:00:01\r\u001b[K     |█████████████████████           | 1.6MB 34.2MB/s eta 0:00:01\r\u001b[K     |█████████████████████▎          | 1.7MB 34.2MB/s eta 0:00:01\r\u001b[K     |█████████████████████▍          | 1.7MB 34.2MB/s eta 0:00:01\r\u001b[K     |█████████████████████▌          | 1.7MB 34.2MB/s eta 0:00:01\r\u001b[K     |█████████████████████▋          | 1.7MB 34.2MB/s eta 0:00:01\r\u001b[K     |█████████████████████▊          | 1.7MB 34.2MB/s eta 0:00:01\r\u001b[K     |██████████████████████          | 1.7MB 34.2MB/s eta 0:00:01\r\u001b[K     |██████████████████████          | 1.7MB 34.2MB/s eta 0:00:01\r\u001b[K     |██████████████████████▏         | 1.7MB 34.2MB/s eta 0:00:01\r\u001b[K     |██████████████████████▎         | 1.7MB 34.2MB/s eta 0:00:01\r\u001b[K     |██████████████████████▍         | 1.8MB 34.2MB/s eta 0:00:01\r\u001b[K     |██████████████████████▌         | 1.8MB 34.2MB/s eta 0:00:01\r\u001b[K     |██████████████████████▊         | 1.8MB 34.2MB/s eta 0:00:01\r\u001b[K     |██████████████████████▉         | 1.8MB 34.2MB/s eta 0:00:01\r\u001b[K     |███████████████████████         | 1.8MB 34.2MB/s eta 0:00:01\r\u001b[K     |███████████████████████         | 1.8MB 34.2MB/s eta 0:00:01\r\u001b[K     |███████████████████████▏        | 1.8MB 34.2MB/s eta 0:00:01\r\u001b[K     |███████████████████████▍        | 1.8MB 34.2MB/s eta 0:00:01\r\u001b[K     |███████████████████████▌        | 1.8MB 34.2MB/s eta 0:00:01\r\u001b[K     |███████████████████████▋        | 1.8MB 34.2MB/s eta 0:00:01\r\u001b[K     |███████████████████████▊        | 1.9MB 34.2MB/s eta 0:00:01\r\u001b[K     |███████████████████████▉        | 1.9MB 34.2MB/s eta 0:00:01\r\u001b[K     |████████████████████████        | 1.9MB 34.2MB/s eta 0:00:01\r\u001b[K     |████████████████████████▏       | 1.9MB 34.2MB/s eta 0:00:01\r\u001b[K     |████████████████████████▎       | 1.9MB 34.2MB/s eta 0:00:01\r\u001b[K     |████████████████████████▍       | 1.9MB 34.2MB/s eta 0:00:01\r\u001b[K     |████████████████████████▌       | 1.9MB 34.2MB/s eta 0:00:01\r\u001b[K     |████████████████████████▋       | 1.9MB 34.2MB/s eta 0:00:01\r\u001b[K     |████████████████████████▉       | 1.9MB 34.2MB/s eta 0:00:01\r\u001b[K     |█████████████████████████       | 1.9MB 34.2MB/s eta 0:00:01\r\u001b[K     |█████████████████████████       | 2.0MB 34.2MB/s eta 0:00:01\r\u001b[K     |█████████████████████████▏      | 2.0MB 34.2MB/s eta 0:00:01\r\u001b[K     |█████████████████████████▎      | 2.0MB 34.2MB/s eta 0:00:01\r\u001b[K     |█████████████████████████▍      | 2.0MB 34.2MB/s eta 0:00:01\r\u001b[K     |█████████████████████████▋      | 2.0MB 34.2MB/s eta 0:00:01\r\u001b[K     |█████████████████████████▊      | 2.0MB 34.2MB/s eta 0:00:01\r\u001b[K     |█████████████████████████▉      | 2.0MB 34.2MB/s eta 0:00:01\r\u001b[K     |██████████████████████████      | 2.0MB 34.2MB/s eta 0:00:01\r\u001b[K     |██████████████████████████      | 2.0MB 34.2MB/s eta 0:00:01\r\u001b[K     |██████████████████████████▏     | 2.0MB 34.2MB/s eta 0:00:01\r\u001b[K     |██████████████████████████▍     | 2.1MB 34.2MB/s eta 0:00:01\r\u001b[K     |██████████████████████████▌     | 2.1MB 34.2MB/s eta 0:00:01\r\u001b[K     |██████████████████████████▋     | 2.1MB 34.2MB/s eta 0:00:01\r\u001b[K     |██████████████████████████▊     | 2.1MB 34.2MB/s eta 0:00:01\r\u001b[K     |██████████████████████████▉     | 2.1MB 34.2MB/s eta 0:00:01\r\u001b[K     |███████████████████████████     | 2.1MB 34.2MB/s eta 0:00:01\r\u001b[K     |███████████████████████████▏    | 2.1MB 34.2MB/s eta 0:00:01\r\u001b[K     |███████████████████████████▎    | 2.1MB 34.2MB/s eta 0:00:01\r\u001b[K     |███████████████████████████▍    | 2.1MB 34.2MB/s eta 0:00:01\r\u001b[K     |███████████████████████████▌    | 2.2MB 34.2MB/s eta 0:00:01\r\u001b[K     |███████████████████████████▋    | 2.2MB 34.2MB/s eta 0:00:01\r\u001b[K     |███████████████████████████▉    | 2.2MB 34.2MB/s eta 0:00:01\r\u001b[K     |████████████████████████████    | 2.2MB 34.2MB/s eta 0:00:01\r\u001b[K     |████████████████████████████    | 2.2MB 34.2MB/s eta 0:00:01\r\u001b[K     |████████████████████████████▏   | 2.2MB 34.2MB/s eta 0:00:01\r\u001b[K     |████████████████████████████▎   | 2.2MB 34.2MB/s eta 0:00:01\r\u001b[K     |████████████████████████████▌   | 2.2MB 34.2MB/s eta 0:00:01\r\u001b[K     |████████████████████████████▋   | 2.2MB 34.2MB/s eta 0:00:01\r\u001b[K     |████████████████████████████▊   | 2.2MB 34.2MB/s eta 0:00:01\r\u001b[K     |████████████████████████████▉   | 2.3MB 34.2MB/s eta 0:00:01\r\u001b[K     |█████████████████████████████   | 2.3MB 34.2MB/s eta 0:00:01\r\u001b[K     |█████████████████████████████   | 2.3MB 34.2MB/s eta 0:00:01\r\u001b[K     |█████████████████████████████▎  | 2.3MB 34.2MB/s eta 0:00:01\r\u001b[K     |█████████████████████████████▍  | 2.3MB 34.2MB/s eta 0:00:01\r\u001b[K     |█████████████████████████████▌  | 2.3MB 34.2MB/s eta 0:00:01\r\u001b[K     |█████████████████████████████▋  | 2.3MB 34.2MB/s eta 0:00:01\r\u001b[K     |█████████████████████████████▊  | 2.3MB 34.2MB/s eta 0:00:01\r\u001b[K     |██████████████████████████████  | 2.3MB 34.2MB/s eta 0:00:01\r\u001b[K     |██████████████████████████████  | 2.3MB 34.2MB/s eta 0:00:01\r\u001b[K     |██████████████████████████████▏ | 2.4MB 34.2MB/s eta 0:00:01\r\u001b[K     |██████████████████████████████▎ | 2.4MB 34.2MB/s eta 0:00:01\r\u001b[K     |██████████████████████████████▍ | 2.4MB 34.2MB/s eta 0:00:01\r\u001b[K     |██████████████████████████████▌ | 2.4MB 34.2MB/s eta 0:00:01\r\u001b[K     |██████████████████████████████▊ | 2.4MB 34.2MB/s eta 0:00:01\r\u001b[K     |██████████████████████████████▉ | 2.4MB 34.2MB/s eta 0:00:01\r\u001b[K     |███████████████████████████████ | 2.4MB 34.2MB/s eta 0:00:01\r\u001b[K     |███████████████████████████████ | 2.4MB 34.2MB/s eta 0:00:01\r\u001b[K     |███████████████████████████████▏| 2.4MB 34.2MB/s eta 0:00:01\r\u001b[K     |███████████████████████████████▍| 2.4MB 34.2MB/s eta 0:00:01\r\u001b[K     |███████████████████████████████▌| 2.5MB 34.2MB/s eta 0:00:01\r\u001b[K     |███████████████████████████████▋| 2.5MB 34.2MB/s eta 0:00:01\r\u001b[K     |███████████████████████████████▊| 2.5MB 34.2MB/s eta 0:00:01\r\u001b[K     |███████████████████████████████▉| 2.5MB 34.2MB/s eta 0:00:01\r\u001b[K     |████████████████████████████████| 2.5MB 34.2MB/s eta 0:00:01\r\u001b[K     |████████████████████████████████| 2.5MB 34.2MB/s \n",
            "\u001b[?25hRequirement already satisfied: pyyaml in /usr/local/lib/python3.7/dist-packages (from transformers) (3.13)\n",
            "Collecting tokenizers<0.11,>=0.10.1\n",
            "\u001b[?25l  Downloading https://files.pythonhosted.org/packages/d4/e2/df3543e8ffdab68f5acc73f613de9c2b155ac47f162e725dcac87c521c11/tokenizers-0.10.3-cp37-cp37m-manylinux_2_5_x86_64.manylinux1_x86_64.manylinux_2_12_x86_64.manylinux2010_x86_64.whl (3.3MB)\n",
            "\u001b[K     |████████████████████████████████| 3.3MB 40.5MB/s \n",
            "\u001b[?25hRequirement already satisfied: numpy>=1.17 in /usr/local/lib/python3.7/dist-packages (from transformers) (1.19.5)\n",
            "Requirement already satisfied: packaging in /usr/local/lib/python3.7/dist-packages (from transformers) (20.9)\n",
            "Requirement already satisfied: regex!=2019.12.17 in /usr/local/lib/python3.7/dist-packages (from transformers) (2019.12.20)\n",
            "Requirement already satisfied: importlib-metadata; python_version < \"3.8\" in /usr/local/lib/python3.7/dist-packages (from transformers) (4.6.0)\n",
            "Collecting huggingface-hub==0.0.12\n",
            "  Downloading https://files.pythonhosted.org/packages/2f/ee/97e253668fda9b17e968b3f97b2f8e53aa0127e8807d24a547687423fe0b/huggingface_hub-0.0.12-py3-none-any.whl\n",
            "Collecting sacremoses\n",
            "\u001b[?25l  Downloading https://files.pythonhosted.org/packages/75/ee/67241dc87f266093c533a2d4d3d69438e57d7a90abb216fa076e7d475d4a/sacremoses-0.0.45-py3-none-any.whl (895kB)\n",
            "\u001b[K     |████████████████████████████████| 901kB 44.9MB/s \n",
            "\u001b[?25hRequirement already satisfied: requests in /usr/local/lib/python3.7/dist-packages (from transformers) (2.23.0)\n",
            "Requirement already satisfied: tqdm>=4.27 in /usr/local/lib/python3.7/dist-packages (from transformers) (4.41.1)\n",
            "Requirement already satisfied: filelock in /usr/local/lib/python3.7/dist-packages (from transformers) (3.0.12)\n",
            "Requirement already satisfied: pyparsing>=2.0.2 in /usr/local/lib/python3.7/dist-packages (from packaging->transformers) (2.4.7)\n",
            "Requirement already satisfied: zipp>=0.5 in /usr/local/lib/python3.7/dist-packages (from importlib-metadata; python_version < \"3.8\"->transformers) (3.4.1)\n",
            "Requirement already satisfied: typing-extensions>=3.6.4; python_version < \"3.8\" in /usr/local/lib/python3.7/dist-packages (from importlib-metadata; python_version < \"3.8\"->transformers) (3.7.4.3)\n",
            "Requirement already satisfied: click in /usr/local/lib/python3.7/dist-packages (from sacremoses->transformers) (7.1.2)\n",
            "Requirement already satisfied: joblib in /usr/local/lib/python3.7/dist-packages (from sacremoses->transformers) (1.0.1)\n",
            "Requirement already satisfied: six in /usr/local/lib/python3.7/dist-packages (from sacremoses->transformers) (1.15.0)\n",
            "Requirement already satisfied: idna<3,>=2.5 in /usr/local/lib/python3.7/dist-packages (from requests->transformers) (2.10)\n",
            "Requirement already satisfied: certifi>=2017.4.17 in /usr/local/lib/python3.7/dist-packages (from requests->transformers) (2021.5.30)\n",
            "Requirement already satisfied: chardet<4,>=3.0.2 in /usr/local/lib/python3.7/dist-packages (from requests->transformers) (3.0.4)\n",
            "Requirement already satisfied: urllib3!=1.25.0,!=1.25.1,<1.26,>=1.21.1 in /usr/local/lib/python3.7/dist-packages (from requests->transformers) (1.24.3)\n",
            "Installing collected packages: tokenizers, huggingface-hub, sacremoses, transformers\n",
            "Successfully installed huggingface-hub-0.0.12 sacremoses-0.0.45 tokenizers-0.10.3 transformers-4.8.2\n"
          ],
          "name": "stdout"
        }
      ]
    },
    {
      "cell_type": "code",
      "metadata": {
        "id": "NZgGQljhdbBN",
        "colab": {
          "base_uri": "https://localhost:8080/",
          "height": 321,
          "referenced_widgets": [
            "49b7142fae6a408e9efed02332fab4b9",
            "82730154addb43d7b1f5636e70613379",
            "a61168755d364ed3aa466bd32e90c627",
            "49baeefce77148b89f4d1f4b94860b71",
            "356b9a9043e94f4e85762a389dbc69a7",
            "a58e84e356f64f01980b64a519a67aa5",
            "c74779304ba340cab1d6f43344d1e7d3",
            "d042540cb1d74a7cb35e7f0c39849495",
            "6758f1644eb24db69ff4c482ccc51e19",
            "002bdde9ff624136bb2519deff749ca7",
            "a3f0b99b697d4f22b3f13844cec9a401",
            "cbdb808fb95947a2acca48fc308c5de9",
            "507f2b7a8bd3414599d89e9fca2629ee",
            "01b780194815400ba2f2c3826496661f",
            "3d005d10b1404133b89c5e97fb550bbf",
            "34218f2bb8274eb9b2ff73d1762189b7",
            "a2df6e43d51b44d697c1d622070c16db",
            "401222c72a4341cfb75860e33ef6eca3",
            "ccad10a439ec40b6a38909d158acf2ef",
            "2ec5bc573be2444fbe7fa1a74f64e09a",
            "0297ef76b5a74022a74c0cbdfd7b0f89",
            "4625a10f33a14457b2a6800ac230fb1b",
            "98820035f4134298a1ca3b3c71f23b80",
            "356131eec8944eaf82da5611346c1a29",
            "53773d0ae8df4b4bab55ae5bbb538989",
            "c6a73dadccd74150a4c81a11cc446017",
            "5cbc6671aaeb4f23ba627f2742e66736",
            "5e2687226f1d4bbbad9bb7e3277a4294",
            "bf3d718f0cf9411db6ceeb413cafc7e2",
            "07c4fc085e7c4376aac12125e0302edb",
            "cacf87c9687d4b46a89b1501d8fc105b",
            "6291d8387db94f1aab3de47651cf6067",
            "ab2eff97d60e43388c29c6cc1e268bbb",
            "2b45641c578f414d8984b54d39e0148c",
            "7f2497ea83754917842868db9262b8c4",
            "916448a74a414a07b95b1a7281ba8c8c",
            "98a3e92a442146d58f1bafbd32ca88ee",
            "3c38db393002460bb0830a39a3d4c4cf",
            "b8389984e2d24950b72fcb6078e02906",
            "6bf0f263c95447999804158b65176aae"
          ]
        },
        "outputId": "e7f556ee-71a6-4b52-ed9d-36886db0a862"
      },
      "source": [
        "tokenizer = AutoTokenizer.from_pretrained(\"microsoft/DialoGPT-medium\")\n",
        "model= AutoModelWithLMHead.from_pretrained(\"microsoft/DialoGPT-medium\")"
      ],
      "execution_count": 2,
      "outputs": [
        {
          "output_type": "display_data",
          "data": {
            "application/vnd.jupyter.widget-view+json": {
              "model_id": "49b7142fae6a408e9efed02332fab4b9",
              "version_minor": 0,
              "version_major": 2
            },
            "text/plain": [
              "HBox(children=(FloatProgress(value=0.0, description='Downloading', max=26.0, style=ProgressStyle(description_w…"
            ]
          },
          "metadata": {
            "tags": []
          }
        },
        {
          "output_type": "stream",
          "text": [
            "\n"
          ],
          "name": "stdout"
        },
        {
          "output_type": "display_data",
          "data": {
            "application/vnd.jupyter.widget-view+json": {
              "model_id": "6758f1644eb24db69ff4c482ccc51e19",
              "version_minor": 0,
              "version_major": 2
            },
            "text/plain": [
              "HBox(children=(FloatProgress(value=0.0, description='Downloading', max=642.0, style=ProgressStyle(description_…"
            ]
          },
          "metadata": {
            "tags": []
          }
        },
        {
          "output_type": "stream",
          "text": [
            "\n"
          ],
          "name": "stdout"
        },
        {
          "output_type": "display_data",
          "data": {
            "application/vnd.jupyter.widget-view+json": {
              "model_id": "a2df6e43d51b44d697c1d622070c16db",
              "version_minor": 0,
              "version_major": 2
            },
            "text/plain": [
              "HBox(children=(FloatProgress(value=0.0, description='Downloading', max=1042301.0, style=ProgressStyle(descript…"
            ]
          },
          "metadata": {
            "tags": []
          }
        },
        {
          "output_type": "stream",
          "text": [
            "\n"
          ],
          "name": "stdout"
        },
        {
          "output_type": "display_data",
          "data": {
            "application/vnd.jupyter.widget-view+json": {
              "model_id": "53773d0ae8df4b4bab55ae5bbb538989",
              "version_minor": 0,
              "version_major": 2
            },
            "text/plain": [
              "HBox(children=(FloatProgress(value=0.0, description='Downloading', max=456318.0, style=ProgressStyle(descripti…"
            ]
          },
          "metadata": {
            "tags": []
          }
        },
        {
          "output_type": "stream",
          "text": [
            "\n"
          ],
          "name": "stdout"
        },
        {
          "output_type": "stream",
          "text": [
            "/usr/local/lib/python3.7/dist-packages/transformers/models/auto/modeling_auto.py:847: FutureWarning: The class `AutoModelWithLMHead` is deprecated and will be removed in a future version. Please use `AutoModelForCausalLM` for causal language models, `AutoModelForMaskedLM` for masked language models and `AutoModelForSeq2SeqLM` for encoder-decoder models.\n",
            "  FutureWarning,\n"
          ],
          "name": "stderr"
        },
        {
          "output_type": "display_data",
          "data": {
            "application/vnd.jupyter.widget-view+json": {
              "model_id": "ab2eff97d60e43388c29c6cc1e268bbb",
              "version_minor": 0,
              "version_major": 2
            },
            "text/plain": [
              "HBox(children=(FloatProgress(value=0.0, description='Downloading', max=862955157.0, style=ProgressStyle(descri…"
            ]
          },
          "metadata": {
            "tags": []
          }
        },
        {
          "output_type": "stream",
          "text": [
            "\n"
          ],
          "name": "stdout"
        }
      ]
    },
    {
      "cell_type": "code",
      "metadata": {
        "id": "tDYhaGQJdJDr",
        "colab": {
          "base_uri": "https://localhost:8080/"
        },
        "outputId": "1fac3ee2-a47d-42db-9102-3c00e73f1cdf"
      },
      "source": [
        "for step in range(5):\n",
        "  new_user_input_ids = tokenizer.encode(input(\"😎:\") + tokenizer.eos_token, return_tensors='pt')\n",
        "  bot_input_ids = torch.cat([chat_history_ids, new_user_input_ids], dim=-1) if step > 0 else new_user_input_ids\n",
        "  chat_history_ids = model.generate(bot_input_ids, max_length=1000, pad_token_id=tokenizer.eos_token_id)\n",
        "  print(\"🤖: {}\".format(tokenizer.decode(chat_history_ids[:, bot_input_ids.shape[-1]:][0], skip_special_tokens=True)))\n"
      ],
      "execution_count": 3,
      "outputs": [
        {
          "output_type": "stream",
          "text": [
            "😎:hi\n",
            "🤖: Hey! :D\n",
            "😎:what is your name\n",
            "🤖: I'm not sure, but I think it's a reference to the movie The Big Lebowski.\n",
            "😎:wow that's nice\n",
            "🤖: I'm not sure if it's a reference to the movie or not, but I think it's a reference to the movie The Big Lebowski.\n",
            "😎:bye\n",
            "🤖: I'm not sure if it's a reference to the movie or not, but I think it's a reference to the movie The Big Lebowski.\n",
            "😎:kya\n",
            "🤖: I'm not sure if it's a reference to the movie or not, but I think it's\n"
          ],
          "name": "stdout"
        }
      ]
    }
  ]
}